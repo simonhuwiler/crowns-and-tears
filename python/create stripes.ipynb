{
 "cells": [
  {
   "cell_type": "markdown",
   "metadata": {},
   "source": [
    "# Create Stripes"
   ]
  },
  {
   "cell_type": "code",
   "execution_count": 1,
   "metadata": {},
   "outputs": [],
   "source": [
    "import svgwrite as svg\n",
    "import math\n",
    "import os\n",
    "\n",
    "import xml.etree.ElementTree as ET\n",
    "\n",
    "import pandas as pd\n",
    "import math"
   ]
  },
  {
   "cell_type": "markdown",
   "metadata": {},
   "source": [
    "## Settings"
   ]
  },
  {
   "cell_type": "code",
   "execution_count": 2,
   "metadata": {},
   "outputs": [],
   "source": [
    "musicxml = '../sheet/crowns_and_tears.musicxml'\n",
    "covidstats = 'COVID19Death_geoRegion.csv'\n",
    "startdate = '2020-02-25'"
   ]
  },
  {
   "cell_type": "markdown",
   "metadata": {},
   "source": [
    "## Convert MusicXML to Array"
   ]
  },
  {
   "cell_type": "code",
   "execution_count": 3,
   "metadata": {},
   "outputs": [],
   "source": [
    "root = ET.parse(musicxml).getroot()\n",
    "division = int(root.find('.//attributes/divisions').text)\n",
    "beat = int(root.find('.//attributes/time/beats').text)"
   ]
  },
  {
   "cell_type": "code",
   "execution_count": 4,
   "metadata": {},
   "outputs": [],
   "source": [
    "def note_to_strip_number(step, octave):\n",
    "    step = step.upper()\n",
    "    value = 0\n",
    "    if step == 'C': value = 0\n",
    "    elif step == 'D': value = 1\n",
    "    elif step == 'E': value = 2\n",
    "    elif step == 'F': value = 3\n",
    "    elif step == 'G': value = 4\n",
    "    elif step == 'A': value = 5\n",
    "    elif step == 'B': value = 6\n",
    "    elif step == 'C': value = 7\n",
    "        \n",
    "    if octave == 5: value += 7\n",
    "    elif octave == 6: value += 14\n",
    "    \n",
    "    return value        \n",
    "    "
   ]
  },
  {
   "cell_type": "code",
   "execution_count": 5,
   "metadata": {},
   "outputs": [],
   "source": [
    "data = []\n",
    "# Add empty bars\n",
    "totalbars = len(root.find('part').findall('measure'))\n",
    "for i in range(0, int(totalbars) * int(beat) * int(division)):\n",
    "    data.append([])\n",
    "    \n",
    "# Loop Parts\n",
    "for part in root.findall('part'):\n",
    "    \n",
    "    # Loop measures\n",
    "    \n",
    "    stopdurationcount = False\n",
    "    \n",
    "    for measure in part.findall('measure'):\n",
    "        durationcount = 0\n",
    "        \n",
    "        measure_i = int(measure.get('number'))\n",
    "        \n",
    "        for note_i, note in enumerate(measure.findall('note')):\n",
    "            \n",
    "            # Is note (not rest)\n",
    "            pos = (measure_i - 1) * beat * division + durationcount\n",
    "            if(note.find('rest') is None):\n",
    "                #data[pos].append(note.find('pitch/step').text)\n",
    "                data[pos].append(note_to_strip_number(note.find('pitch/step').text, int(note.find('pitch/octave').text)))\n",
    "            #else:\n",
    "            #    data[pos].append(\"break\")\n",
    "\n",
    "            # Stop count if...\n",
    "            nextmeasure = measure.find('note[%s]' % (note_i + 2)) # remember: elem 0 = xpath 1\n",
    "            if (nextmeasure is not None) and (\n",
    "                (nextmeasure.find('chord') is not None)\n",
    "            ):\n",
    "                stopdurationcount = True\n",
    "            else:\n",
    "                stopdurationcount = False\n",
    "            \n",
    "            if not stopdurationcount:\n",
    "                durationcount += int(note.find('duration').text)\n",
    "                \n",
    "            \n",
    "        #if(measure_i >= 7):\n",
    "        #    break\n",
    "    "
   ]
  },
  {
   "cell_type": "markdown",
   "metadata": {},
   "source": [
    "## Settings for Stripes"
   ]
  },
  {
   "cell_type": "code",
   "execution_count": 6,
   "metadata": {},
   "outputs": [],
   "source": [
    "tmp_folder = 'export'\n",
    "\n",
    "mm_height_paper = 41\n",
    "mm_height = 28\n",
    "mm_width = 260#263\n",
    "mm_line_height = 2\n",
    "mm_note_radius = 1\n",
    "mm_bar_width = 2.5\n",
    "mm_padding_start = 0#4\n",
    "\n",
    "direction_right_to_left = True\n",
    "plot_covid_bottom = False"
   ]
  },
  {
   "cell_type": "markdown",
   "metadata": {},
   "source": [
    "## Import Covid Stats"
   ]
  },
  {
   "cell_type": "code",
   "execution_count": 7,
   "metadata": {},
   "outputs": [
    {
     "data": {
      "text/plain": [
       "329"
      ]
     },
     "execution_count": 7,
     "metadata": {},
     "output_type": "execute_result"
    }
   ],
   "source": [
    "covid_stat_height = mm_height\n",
    "\n",
    "df = pd.read_csv(covidstats, encoding='latin-1')\n",
    "df = df[df.geoRegion != 'FL']\n",
    "df = df[df.datum >= startdate]\n",
    "\n",
    "df = df.groupby('datum').agg({'entries': 'sum'})\n",
    "\n",
    "df = df.reset_index()\n",
    "\n",
    "# Remove \"Summer break\"\n",
    "df = df[(df.datum <= '2020-07-21') | (df.datum >= '2020-09-20')]\n",
    "\n",
    "# Calc Notes per day\n",
    "df['height'] = df['entries'].apply(lambda x: round(covid_stat_height / df['entries'].max() * x, 1))\n",
    "\n",
    "len(df)"
   ]
  },
  {
   "cell_type": "markdown",
   "metadata": {},
   "source": [
    "## Plot Stripes"
   ]
  },
  {
   "cell_type": "code",
   "execution_count": 8,
   "metadata": {
    "scrolled": true
   },
   "outputs": [],
   "source": [
    "#Factor for Scaling up SVG - it is easier debugging it this way\n",
    "factor = 5\n",
    "\n",
    "bars_per_row = math.floor(mm_width / mm_bar_width)\n",
    "\n",
    "for row in range (0, math.ceil(len(data) * mm_bar_width / mm_width)):\n",
    "    \n",
    "    # Create SVG\n",
    "    d = svg.Drawing(os.path.join(tmp_folder, 'row_%s.svg' % row), size=((mm_width + mm_padding_start) * factor, mm_height_paper * factor))\n",
    "    \n",
    "    #--------------------- Add Covid Graph\n",
    "    \n",
    "    transf = \"translate(0, %s)\" % ((mm_height_paper - mm_height) / 2 * factor)\n",
    "    \n",
    "    # Create Group\n",
    "    g_graph = svg.container.Group(transform = transf)\n",
    "    \n",
    "    # Sample DataFrame\n",
    "    df_samp = df[math.floor(bars_per_row * row / division): math.ceil(bars_per_row * row / division + (bars_per_row / division))]\n",
    "    \n",
    "    # Empty path\n",
    "    if plot_covid_bottom:\n",
    "        path = \"M %s %s\" % (mm_width * factor, covid_stat_height * factor)\n",
    "    else:\n",
    "        path = \"M %s %s\" % (mm_width * factor, 0)  \n",
    "    \n",
    "    i = 0\n",
    "    for ibar, df_row in df_samp.iterrows():\n",
    "        if plot_covid_bottom:\n",
    "            x = (mm_width * factor) - (i * division) * mm_bar_width * factor\n",
    "            y = (covid_stat_height - df_row['height']) * factor\n",
    "        else:\n",
    "            #x = (i * division) * mm_bar_width * factor\n",
    "            x = (mm_width * factor) - (i * division) * mm_bar_width * factor\n",
    "            y = (df_row['height']) * factor\n",
    "        \n",
    "        path = path + \"L %s %s \" % (x, y)\n",
    "            \n",
    "        i += 1\n",
    "        \n",
    "    # Plot from last point to edge of strip\n",
    "    if plot_covid_bottom:\n",
    "        path = path + \"L %s %s L %s %s Z\" % (0, y, 0, covid_stat_height * factor)\n",
    "    else:\n",
    "        last = math.ceil(bars_per_row * row / division + (bars_per_row / division))\n",
    "        df_samp = df[last: last + 1]\n",
    "        if len(df_samp) > 0:\n",
    "            path = path + \"L %s %s L %s %s Z\" % (0, df_samp.iloc[0]['height'] * factor, 0, 0)\n",
    "\n",
    "    g_graph.add(svg.path.Path(path, style=\"fill:#98cbeb;stroke:#2c8eca\"))\n",
    "    \n",
    "    d.add(g_graph) \n",
    "    \n",
    "    \n",
    "    #--------------------- Add Music\n",
    "\n",
    "    # Add Borders\n",
    "    #d.add(svg.shapes.Rect((0, 0), ((mm_width + mm_padding_start) * factor, mm_height_paper * factor),  style=\"stroke:#7b7b7b;stroke-width:0.1; fill: none\"))\n",
    "    d.add(svg.shapes.Line((0, 0), ((mm_width + mm_padding_start) * factor,  0), style=\"stroke:#7b7b7b;stroke-width:0.1\"))\n",
    "    d.add(svg.shapes.Line((0,  mm_height_paper * factor), ((mm_width + mm_padding_start) * factor, mm_height_paper * factor), style=\"stroke:#7b7b7b;stroke-width:0.1\"))\n",
    "\n",
    "    #transf = \"translate(0, %s)\" % ((mm_height_paper - mm_height) / 2 * factor)\n",
    "    g = svg.container.Group(transform = transf)\n",
    "\n",
    "    # Draw Lines\n",
    "    for i in range(0, 15):\n",
    "        g.add(svg.shapes.Line((0, i * mm_line_height * factor), (mm_width * factor, i * mm_line_height * factor), style=\"stroke:#a1a1a1;stroke-width:1\"))\n",
    "\n",
    "    # Draw Music\n",
    "    for ibar, bar in enumerate(data[bars_per_row * row: bars_per_row * row + bars_per_row]):\n",
    "        for note in bar:\n",
    "            if direction_right_to_left:\n",
    "                x = (mm_width * factor) - ibar * mm_bar_width * factor\n",
    "            else:\n",
    "                x = ibar * mm_bar_width * factor\n",
    "            #y = (14 - note) * mm_line_height * factor\n",
    "            y = note * mm_line_height * factor\n",
    "            g.add(svg.shapes.Circle((x, y), r = (mm_note_radius * factor), style=\"fill: #686868\"))\n",
    "\n",
    "\n",
    "\n",
    "    d.add(g)\n",
    "\n",
    "    # Save SVG\n",
    "    d.save()"
   ]
  },
  {
   "cell_type": "markdown",
   "metadata": {},
   "source": [
    "## Create PDF (if needed)"
   ]
  },
  {
   "cell_type": "code",
   "execution_count": 9,
   "metadata": {},
   "outputs": [],
   "source": [
    "from reportlab.pdfgen.canvas import Canvas\n",
    "from reportlab.lib.pagesizes import A4, landscape\n",
    "from reportlab.lib.units import mm\n",
    "from reportlab.graphics import renderPDF, renderPM\n",
    "from reportlab.platypus import SimpleDocTemplate\n",
    "from svglib.svglib import svg2rlg"
   ]
  },
  {
   "cell_type": "code",
   "execution_count": 10,
   "metadata": {},
   "outputs": [],
   "source": [
    "# Create PDF\n",
    "\n",
    "padding_metween_rows = 0\n",
    "\n",
    "pdf_row_height = (mm_height_paper + padding_metween_rows) * mm\n",
    "\n",
    "my_canvas = Canvas(os.path.join(tmp_folder, 'test.pdf'), pagesize=landscape(A4))\n",
    "\n",
    "for row in range(0, math.ceil(len(data) * mm_bar_width / mm_width)):\n",
    "                \n",
    "    drawing = svg2rlg(os.path.join(tmp_folder, 'row_%s.svg' % row))\n",
    "\n",
    "    #Calc Scaling\n",
    "    scale_x = mm / factor\n",
    "    drawing.scale(scale_x, scale_x)\n",
    "\n",
    "\n",
    "    renderPDF.draw(drawing, my_canvas, 50, A4[0] - (60 * mm) - (row % 4 * pdf_row_height))\n",
    "    \n",
    "    # New Page\n",
    "    if row % 4 == 3:\n",
    "        #break\n",
    "        my_canvas.showPage()\n",
    "        \n",
    "\n",
    "my_canvas.save()"
   ]
  },
  {
   "cell_type": "code",
   "execution_count": null,
   "metadata": {},
   "outputs": [],
   "source": []
  }
 ],
 "metadata": {
  "kernelspec": {
   "display_name": "crownsandtears",
   "language": "python",
   "name": "crownsandtears"
  },
  "language_info": {
   "codemirror_mode": {
    "name": "ipython",
    "version": 3
   },
   "file_extension": ".py",
   "mimetype": "text/x-python",
   "name": "python",
   "nbconvert_exporter": "python",
   "pygments_lexer": "ipython3",
   "version": "3.9.0"
  }
 },
 "nbformat": 4,
 "nbformat_minor": 4
}
